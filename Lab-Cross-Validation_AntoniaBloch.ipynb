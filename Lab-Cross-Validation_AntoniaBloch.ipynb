{
 "cells": [
  {
   "cell_type": "markdown",
   "id": "08183336",
   "metadata": {},
   "source": [
    "# Lab | Cross Validation\n",
    "\n",
    "For this lab, we will build a model on customer churn binary classification problem. You will be using `files_for_lab/Customer-Churn.csv` file.\n",
    "\n",
    "\n",
    "\n",
    "### Instructions\n",
    "\n",
    "1. Apply SMOTE for upsampling the data\n",
    "\n",
    "    - Use logistic regression to fit the model and compute the accuracy of the model.\n",
    "    - Use decision tree classifier to fit the model and compute the accuracy of the model.\n",
    "    - Compare the accuracies of the two models.\n",
    "\n",
    "\n",
    "2. Apply TomekLinks for downsampling\n",
    "\n",
    "    - It is important to remember that it does not make the two classes equal but only removes the points from the majority class that are close to other points in minority class.\n",
    "    - Use logistic regression to fit the model and compute the accuracy of the model.\n",
    "    - Use decision tree classifier to fit the model and compute the accuracy of the model.\n",
    "    - Compare the accuracies of the two models.\n",
    "    - You can also apply this algorithm one more time and check the how the imbalance in the two classes changed from the last time."
   ]
  },
  {
   "cell_type": "markdown",
   "id": "da7f60f1",
   "metadata": {},
   "source": [
    "### Import Libraries"
   ]
  },
  {
   "cell_type": "code",
   "execution_count": 87,
   "id": "13e982b6",
   "metadata": {},
   "outputs": [],
   "source": [
    "import pandas as pd\n",
    "import numpy as np\n",
    "pd.set_option('display.max_columns', None)\n",
    "import warnings\n",
    "warnings.filterwarnings('ignore')\n",
    "import statsmodels.api as sm\n",
    "import seaborn as sns\n",
    "\n",
    "\n",
    "from sklearn import metrics\n",
    "from sklearn.metrics import confusion_matrix\n",
    "from sklearn.model_selection import train_test_split\n",
    "from sklearn.linear_model import LogisticRegression\n",
    "from sklearn.tree import DecisionTreeClassifier\n",
    "from sklearn.preprocessing import StandardScaler\n",
    "from imblearn.over_sampling import SMOTE \n",
    "from imblearn.under_sampling import TomekLinks"
   ]
  },
  {
   "cell_type": "markdown",
   "id": "70105f61",
   "metadata": {},
   "source": [
    "### Load data"
   ]
  },
  {
   "cell_type": "code",
   "execution_count": 88,
   "id": "21810ce7",
   "metadata": {},
   "outputs": [
    {
     "data": {
      "text/html": [
       "<div>\n",
       "<style scoped>\n",
       "    .dataframe tbody tr th:only-of-type {\n",
       "        vertical-align: middle;\n",
       "    }\n",
       "\n",
       "    .dataframe tbody tr th {\n",
       "        vertical-align: top;\n",
       "    }\n",
       "\n",
       "    .dataframe thead th {\n",
       "        text-align: right;\n",
       "    }\n",
       "</style>\n",
       "<table border=\"1\" class=\"dataframe\">\n",
       "  <thead>\n",
       "    <tr style=\"text-align: right;\">\n",
       "      <th></th>\n",
       "      <th>gender</th>\n",
       "      <th>SeniorCitizen</th>\n",
       "      <th>Partner</th>\n",
       "      <th>Dependents</th>\n",
       "      <th>tenure</th>\n",
       "      <th>PhoneService</th>\n",
       "      <th>OnlineSecurity</th>\n",
       "      <th>OnlineBackup</th>\n",
       "      <th>DeviceProtection</th>\n",
       "      <th>TechSupport</th>\n",
       "      <th>StreamingTV</th>\n",
       "      <th>StreamingMovies</th>\n",
       "      <th>Contract</th>\n",
       "      <th>MonthlyCharges</th>\n",
       "      <th>TotalCharges</th>\n",
       "      <th>Churn</th>\n",
       "    </tr>\n",
       "  </thead>\n",
       "  <tbody>\n",
       "    <tr>\n",
       "      <th>0</th>\n",
       "      <td>Female</td>\n",
       "      <td>0</td>\n",
       "      <td>Yes</td>\n",
       "      <td>No</td>\n",
       "      <td>1</td>\n",
       "      <td>No</td>\n",
       "      <td>No</td>\n",
       "      <td>Yes</td>\n",
       "      <td>No</td>\n",
       "      <td>No</td>\n",
       "      <td>No</td>\n",
       "      <td>No</td>\n",
       "      <td>Month-to-month</td>\n",
       "      <td>29.85</td>\n",
       "      <td>29.85</td>\n",
       "      <td>No</td>\n",
       "    </tr>\n",
       "    <tr>\n",
       "      <th>1</th>\n",
       "      <td>Male</td>\n",
       "      <td>0</td>\n",
       "      <td>No</td>\n",
       "      <td>No</td>\n",
       "      <td>34</td>\n",
       "      <td>Yes</td>\n",
       "      <td>Yes</td>\n",
       "      <td>No</td>\n",
       "      <td>Yes</td>\n",
       "      <td>No</td>\n",
       "      <td>No</td>\n",
       "      <td>No</td>\n",
       "      <td>One year</td>\n",
       "      <td>56.95</td>\n",
       "      <td>1889.5</td>\n",
       "      <td>No</td>\n",
       "    </tr>\n",
       "    <tr>\n",
       "      <th>2</th>\n",
       "      <td>Male</td>\n",
       "      <td>0</td>\n",
       "      <td>No</td>\n",
       "      <td>No</td>\n",
       "      <td>2</td>\n",
       "      <td>Yes</td>\n",
       "      <td>Yes</td>\n",
       "      <td>Yes</td>\n",
       "      <td>No</td>\n",
       "      <td>No</td>\n",
       "      <td>No</td>\n",
       "      <td>No</td>\n",
       "      <td>Month-to-month</td>\n",
       "      <td>53.85</td>\n",
       "      <td>108.15</td>\n",
       "      <td>Yes</td>\n",
       "    </tr>\n",
       "    <tr>\n",
       "      <th>3</th>\n",
       "      <td>Male</td>\n",
       "      <td>0</td>\n",
       "      <td>No</td>\n",
       "      <td>No</td>\n",
       "      <td>45</td>\n",
       "      <td>No</td>\n",
       "      <td>Yes</td>\n",
       "      <td>No</td>\n",
       "      <td>Yes</td>\n",
       "      <td>Yes</td>\n",
       "      <td>No</td>\n",
       "      <td>No</td>\n",
       "      <td>One year</td>\n",
       "      <td>42.30</td>\n",
       "      <td>1840.75</td>\n",
       "      <td>No</td>\n",
       "    </tr>\n",
       "    <tr>\n",
       "      <th>4</th>\n",
       "      <td>Female</td>\n",
       "      <td>0</td>\n",
       "      <td>No</td>\n",
       "      <td>No</td>\n",
       "      <td>2</td>\n",
       "      <td>Yes</td>\n",
       "      <td>No</td>\n",
       "      <td>No</td>\n",
       "      <td>No</td>\n",
       "      <td>No</td>\n",
       "      <td>No</td>\n",
       "      <td>No</td>\n",
       "      <td>Month-to-month</td>\n",
       "      <td>70.70</td>\n",
       "      <td>151.65</td>\n",
       "      <td>Yes</td>\n",
       "    </tr>\n",
       "  </tbody>\n",
       "</table>\n",
       "</div>"
      ],
      "text/plain": [
       "   gender  SeniorCitizen Partner Dependents  tenure PhoneService  \\\n",
       "0  Female              0     Yes         No       1           No   \n",
       "1    Male              0      No         No      34          Yes   \n",
       "2    Male              0      No         No       2          Yes   \n",
       "3    Male              0      No         No      45           No   \n",
       "4  Female              0      No         No       2          Yes   \n",
       "\n",
       "  OnlineSecurity OnlineBackup DeviceProtection TechSupport StreamingTV  \\\n",
       "0             No          Yes               No          No          No   \n",
       "1            Yes           No              Yes          No          No   \n",
       "2            Yes          Yes               No          No          No   \n",
       "3            Yes           No              Yes         Yes          No   \n",
       "4             No           No               No          No          No   \n",
       "\n",
       "  StreamingMovies        Contract  MonthlyCharges TotalCharges Churn  \n",
       "0              No  Month-to-month           29.85        29.85    No  \n",
       "1              No        One year           56.95       1889.5    No  \n",
       "2              No  Month-to-month           53.85       108.15   Yes  \n",
       "3              No        One year           42.30      1840.75    No  \n",
       "4              No  Month-to-month           70.70       151.65   Yes  "
      ]
     },
     "execution_count": 88,
     "metadata": {},
     "output_type": "execute_result"
    }
   ],
   "source": [
    "churndata = pd.read_csv('files_for_lab/Customer-Churn.csv')#, header=None)\n",
    "churndata.head()"
   ]
  },
  {
   "cell_type": "markdown",
   "id": "60aa6fb8",
   "metadata": {},
   "source": [
    "### Basic Data cleaning"
   ]
  },
  {
   "cell_type": "markdown",
   "id": "a817e50b",
   "metadata": {},
   "source": [
    "#### Standardize header names"
   ]
  },
  {
   "cell_type": "code",
   "execution_count": 89,
   "id": "75bce9fe",
   "metadata": {},
   "outputs": [
    {
     "data": {
      "text/html": [
       "<div>\n",
       "<style scoped>\n",
       "    .dataframe tbody tr th:only-of-type {\n",
       "        vertical-align: middle;\n",
       "    }\n",
       "\n",
       "    .dataframe tbody tr th {\n",
       "        vertical-align: top;\n",
       "    }\n",
       "\n",
       "    .dataframe thead th {\n",
       "        text-align: right;\n",
       "    }\n",
       "</style>\n",
       "<table border=\"1\" class=\"dataframe\">\n",
       "  <thead>\n",
       "    <tr style=\"text-align: right;\">\n",
       "      <th></th>\n",
       "      <th>gender</th>\n",
       "      <th>seniorcitizen</th>\n",
       "      <th>partner</th>\n",
       "      <th>dependents</th>\n",
       "      <th>tenure</th>\n",
       "      <th>phoneservice</th>\n",
       "      <th>onlinesecurity</th>\n",
       "      <th>onlinebackup</th>\n",
       "      <th>deviceprotection</th>\n",
       "      <th>techsupport</th>\n",
       "      <th>streamingtv</th>\n",
       "      <th>streamingmovies</th>\n",
       "      <th>contract</th>\n",
       "      <th>monthlycharges</th>\n",
       "      <th>totalcharges</th>\n",
       "      <th>churn</th>\n",
       "    </tr>\n",
       "  </thead>\n",
       "  <tbody>\n",
       "    <tr>\n",
       "      <th>0</th>\n",
       "      <td>Female</td>\n",
       "      <td>0</td>\n",
       "      <td>Yes</td>\n",
       "      <td>No</td>\n",
       "      <td>1</td>\n",
       "      <td>No</td>\n",
       "      <td>No</td>\n",
       "      <td>Yes</td>\n",
       "      <td>No</td>\n",
       "      <td>No</td>\n",
       "      <td>No</td>\n",
       "      <td>No</td>\n",
       "      <td>Month-to-month</td>\n",
       "      <td>29.85</td>\n",
       "      <td>29.85</td>\n",
       "      <td>No</td>\n",
       "    </tr>\n",
       "    <tr>\n",
       "      <th>1</th>\n",
       "      <td>Male</td>\n",
       "      <td>0</td>\n",
       "      <td>No</td>\n",
       "      <td>No</td>\n",
       "      <td>34</td>\n",
       "      <td>Yes</td>\n",
       "      <td>Yes</td>\n",
       "      <td>No</td>\n",
       "      <td>Yes</td>\n",
       "      <td>No</td>\n",
       "      <td>No</td>\n",
       "      <td>No</td>\n",
       "      <td>One year</td>\n",
       "      <td>56.95</td>\n",
       "      <td>1889.5</td>\n",
       "      <td>No</td>\n",
       "    </tr>\n",
       "    <tr>\n",
       "      <th>2</th>\n",
       "      <td>Male</td>\n",
       "      <td>0</td>\n",
       "      <td>No</td>\n",
       "      <td>No</td>\n",
       "      <td>2</td>\n",
       "      <td>Yes</td>\n",
       "      <td>Yes</td>\n",
       "      <td>Yes</td>\n",
       "      <td>No</td>\n",
       "      <td>No</td>\n",
       "      <td>No</td>\n",
       "      <td>No</td>\n",
       "      <td>Month-to-month</td>\n",
       "      <td>53.85</td>\n",
       "      <td>108.15</td>\n",
       "      <td>Yes</td>\n",
       "    </tr>\n",
       "    <tr>\n",
       "      <th>3</th>\n",
       "      <td>Male</td>\n",
       "      <td>0</td>\n",
       "      <td>No</td>\n",
       "      <td>No</td>\n",
       "      <td>45</td>\n",
       "      <td>No</td>\n",
       "      <td>Yes</td>\n",
       "      <td>No</td>\n",
       "      <td>Yes</td>\n",
       "      <td>Yes</td>\n",
       "      <td>No</td>\n",
       "      <td>No</td>\n",
       "      <td>One year</td>\n",
       "      <td>42.30</td>\n",
       "      <td>1840.75</td>\n",
       "      <td>No</td>\n",
       "    </tr>\n",
       "    <tr>\n",
       "      <th>4</th>\n",
       "      <td>Female</td>\n",
       "      <td>0</td>\n",
       "      <td>No</td>\n",
       "      <td>No</td>\n",
       "      <td>2</td>\n",
       "      <td>Yes</td>\n",
       "      <td>No</td>\n",
       "      <td>No</td>\n",
       "      <td>No</td>\n",
       "      <td>No</td>\n",
       "      <td>No</td>\n",
       "      <td>No</td>\n",
       "      <td>Month-to-month</td>\n",
       "      <td>70.70</td>\n",
       "      <td>151.65</td>\n",
       "      <td>Yes</td>\n",
       "    </tr>\n",
       "  </tbody>\n",
       "</table>\n",
       "</div>"
      ],
      "text/plain": [
       "   gender  seniorcitizen partner dependents  tenure phoneservice  \\\n",
       "0  Female              0     Yes         No       1           No   \n",
       "1    Male              0      No         No      34          Yes   \n",
       "2    Male              0      No         No       2          Yes   \n",
       "3    Male              0      No         No      45           No   \n",
       "4  Female              0      No         No       2          Yes   \n",
       "\n",
       "  onlinesecurity onlinebackup deviceprotection techsupport streamingtv  \\\n",
       "0             No          Yes               No          No          No   \n",
       "1            Yes           No              Yes          No          No   \n",
       "2            Yes          Yes               No          No          No   \n",
       "3            Yes           No              Yes         Yes          No   \n",
       "4             No           No               No          No          No   \n",
       "\n",
       "  streamingmovies        contract  monthlycharges totalcharges churn  \n",
       "0              No  Month-to-month           29.85        29.85    No  \n",
       "1              No        One year           56.95       1889.5    No  \n",
       "2              No  Month-to-month           53.85       108.15   Yes  \n",
       "3              No        One year           42.30      1840.75    No  \n",
       "4              No  Month-to-month           70.70       151.65   Yes  "
      ]
     },
     "execution_count": 89,
     "metadata": {},
     "output_type": "execute_result"
    }
   ],
   "source": [
    "churndata.columns = [column.lower().replace(' ','_') for column in churndata.columns]\n",
    "churndata.head()"
   ]
  },
  {
   "cell_type": "markdown",
   "id": "4e5010f9",
   "metadata": {},
   "source": [
    "#### Check data types"
   ]
  },
  {
   "cell_type": "code",
   "execution_count": 90,
   "id": "cf0ec0d5",
   "metadata": {},
   "outputs": [
    {
     "name": "stdout",
     "output_type": "stream",
     "text": [
      "Data type of each column of Dataframe :\n",
      "gender               object\n",
      "seniorcitizen         int64\n",
      "partner              object\n",
      "dependents           object\n",
      "tenure                int64\n",
      "phoneservice         object\n",
      "onlinesecurity       object\n",
      "onlinebackup         object\n",
      "deviceprotection     object\n",
      "techsupport          object\n",
      "streamingtv          object\n",
      "streamingmovies      object\n",
      "contract             object\n",
      "monthlycharges      float64\n",
      "totalcharges         object\n",
      "churn                object\n",
      "dtype: object\n"
     ]
    }
   ],
   "source": [
    "dataTypeSeries = churndata.dtypes\n",
    "print('Data type of each column of Dataframe :')\n",
    "print(dataTypeSeries)"
   ]
  },
  {
   "cell_type": "markdown",
   "id": "1315e3e4",
   "metadata": {},
   "source": [
    "**Change data type of column totalcharges**"
   ]
  },
  {
   "cell_type": "code",
   "execution_count": 91,
   "id": "e75ebddb",
   "metadata": {},
   "outputs": [],
   "source": [
    "churndata['totalcharges'] = pd.to_numeric(churndata['totalcharges'], errors='coerce')"
   ]
  },
  {
   "cell_type": "markdown",
   "id": "f26d225d",
   "metadata": {},
   "source": [
    "#### Check null values"
   ]
  },
  {
   "cell_type": "code",
   "execution_count": 92,
   "id": "249fa353",
   "metadata": {},
   "outputs": [
    {
     "data": {
      "text/plain": [
       "gender               0\n",
       "seniorcitizen        0\n",
       "partner              0\n",
       "dependents           0\n",
       "tenure               0\n",
       "phoneservice         0\n",
       "onlinesecurity       0\n",
       "onlinebackup         0\n",
       "deviceprotection     0\n",
       "techsupport          0\n",
       "streamingtv          0\n",
       "streamingmovies      0\n",
       "contract             0\n",
       "monthlycharges       0\n",
       "totalcharges        11\n",
       "churn                0\n",
       "dtype: int64"
      ]
     },
     "execution_count": 92,
     "metadata": {},
     "output_type": "execute_result"
    }
   ],
   "source": [
    "churndata.isna().sum()"
   ]
  },
  {
   "cell_type": "markdown",
   "id": "75317a9c",
   "metadata": {},
   "source": [
    "**Fill null values with mean**"
   ]
  },
  {
   "cell_type": "code",
   "execution_count": 93,
   "id": "dd3a823a",
   "metadata": {},
   "outputs": [],
   "source": [
    "churndata['totalcharges'] = churndata['totalcharges'].fillna(churndata['totalcharges'].mean())"
   ]
  },
  {
   "cell_type": "markdown",
   "id": "bd44a2da",
   "metadata": {},
   "source": [
    "#### X-Y Split"
   ]
  },
  {
   "cell_type": "code",
   "execution_count": 94,
   "id": "10371e2d",
   "metadata": {},
   "outputs": [],
   "source": [
    "X = churndata[['tenure', 'seniorcitizen', 'monthlycharges', 'totalcharges']]\n",
    "y = churndata['churn']"
   ]
  },
  {
   "cell_type": "markdown",
   "id": "6ccd8e87",
   "metadata": {},
   "source": [
    "#### Train Test Split"
   ]
  },
  {
   "cell_type": "code",
   "execution_count": 95,
   "id": "0d3a51f5",
   "metadata": {},
   "outputs": [],
   "source": [
    "X_train, X_test, y_train, y_test = train_test_split(X, y, test_size=0.20, random_state=18)"
   ]
  },
  {
   "cell_type": "markdown",
   "id": "ecf2f4d6",
   "metadata": {},
   "source": [
    "### Upsamling with SMOTE"
   ]
  },
  {
   "cell_type": "markdown",
   "id": "676b51c2",
   "metadata": {},
   "source": [
    "#### Do Upsampling with SMOTE"
   ]
  },
  {
   "cell_type": "code",
   "execution_count": 96,
   "id": "1caacf84",
   "metadata": {},
   "outputs": [],
   "source": [
    "X_train_smote = X_train.copy()\n",
    "y_train_smote = y_train.copy()"
   ]
  },
  {
   "cell_type": "code",
   "execution_count": 97,
   "id": "383fa1e6",
   "metadata": {},
   "outputs": [
    {
     "data": {
      "text/plain": [
       "No     4116\n",
       "Yes    4116\n",
       "Name: churn, dtype: int64"
      ]
     },
     "execution_count": 97,
     "metadata": {},
     "output_type": "execute_result"
    }
   ],
   "source": [
    "smote = SMOTE()\n",
    "\n",
    "X_train_smote, y_train_smote = smote.fit_resample(X_train_smote, y_train_smote)\n",
    "y_train_smote.value_counts()"
   ]
  },
  {
   "cell_type": "markdown",
   "id": "8baec918",
   "metadata": {},
   "source": [
    "#### Logistic Regression Model"
   ]
  },
  {
   "cell_type": "code",
   "execution_count": 98,
   "id": "1b22a239",
   "metadata": {},
   "outputs": [],
   "source": [
    "# copy train set resamled with smote for logistic regression model\n",
    "X_train_smote_lr = X_train_smote.copy()\n",
    "y_train_smote_lr = y_train_smote.copy()"
   ]
  },
  {
   "cell_type": "code",
   "execution_count": 99,
   "id": "42245c0f",
   "metadata": {},
   "outputs": [],
   "source": [
    "def classification_models(X_train, y_train, X_test, y_test, model):\n",
    "    model.fit(X_train, y_train)\n",
    "    \n",
    "    score_class = model.score(X_test, y_test)\n",
    "    \n",
    "    predictions = model.predict(X_test)\n",
    "    value_cnt_class = pd.Series(predictions).value_counts()\n",
    "    \n",
    "    print('The accuracyscore is: ', score_class, '\\n')\n",
    "    print('Value counts of the model predictions: ', '\\n', value_cnt_class)"
   ]
  },
  {
   "cell_type": "code",
   "execution_count": 100,
   "id": "dfb1d81e",
   "metadata": {},
   "outputs": [
    {
     "name": "stdout",
     "output_type": "stream",
     "text": [
      "The accuracyscore is:  0.7203690560681334 \n",
      "\n",
      "Value counts of the model predictions:  \n",
      " No     794\n",
      "Yes    615\n",
      "dtype: int64\n"
     ]
    }
   ],
   "source": [
    "classification_models(X_train_smote_lr, y_train_smote_lr, X_test, y_test, LogisticRegression(random_state=12, max_iter=100))"
   ]
  },
  {
   "cell_type": "code",
   "execution_count": 101,
   "id": "9ef48808",
   "metadata": {},
   "outputs": [],
   "source": [
    "def metrics_classifications(X_train, y_train, X_test, y_test, model):\n",
    "    \n",
    "    model.fit(X_train, y_train)\n",
    "    \n",
    "    predictions = model.predict(X_test)\n",
    "    \n",
    "    #confusion matrix\n",
    "    cf_matrix = confusion_matrix(y_test, predictions)\n",
    "    group_names = ['True A', 'False A',\n",
    "                   'False B', 'True B']\n",
    "\n",
    "    group_counts = [\"{0:0.0f}\".format(value) for value in cf_matrix.flatten()]\n",
    "    group_percentages = [\"{0:.2%}\".format(value) for value in cf_matrix.flatten()/np.sum(cf_matrix)]\n",
    "    labels = [f\"{v1}\\n{v2}\\n{v3}\" for v1, v2, v3 in zip(group_names,group_counts,group_percentages)]\n",
    "    labels = np.asarray(labels).reshape(2,2)\n",
    "    \n",
    "    \n",
    "    #classification report\n",
    "    metrics_class = metrics.classification_report(y_test, predictions)\n",
    "    print('Classification report:', '\\n')\n",
    "    print(metrics_class)\n",
    "    \n",
    "    \n",
    "    print('Confusion matrix:')\n",
    "    sns.heatmap(cf_matrix, annot=labels, fmt='', cmap='Blues')"
   ]
  },
  {
   "cell_type": "code",
   "execution_count": 102,
   "id": "a7d9df38",
   "metadata": {},
   "outputs": [
    {
     "name": "stdout",
     "output_type": "stream",
     "text": [
      "Classification report: \n",
      "\n",
      "              precision    recall  f1-score   support\n",
      "\n",
      "          No       0.92      0.69      0.79      1058\n",
      "         Yes       0.47      0.81      0.59       351\n",
      "\n",
      "    accuracy                           0.72      1409\n",
      "   macro avg       0.69      0.75      0.69      1409\n",
      "weighted avg       0.81      0.72      0.74      1409\n",
      "\n",
      "Confusion matrix:\n"
     ]
    },
    {
     "data": {
      "image/png": "[encoded data removed]",
      "text/plain": [
       "<Figure size 432x288 with 2 Axes>"
      ]
     },
     "metadata": {
      "needs_background": "light"
     },
     "output_type": "display_data"
    }
   ],
   "source": [
    "metrics_classifications(X_train_smote_lr, y_train_smote_lr, X_test, y_test, LogisticRegression(random_state=12, max_iter=100))"
   ]
  },
  {
   "cell_type": "markdown",
   "id": "8b5e258f",
   "metadata": {},
   "source": [
    "#### Decision Tree Classifier"
   ]
  },
  {
   "cell_type": "code",
   "execution_count": 103,
   "id": "4e83a8a2",
   "metadata": {},
   "outputs": [],
   "source": [
    "# copy train set resamled with smote for decison tree classifier\n",
    "X_train_smote_dt = X_train_smote.copy()\n",
    "y_train_smote_dt = y_train_smote.copy()"
   ]
  },
  {
   "cell_type": "code",
   "execution_count": 104,
   "id": "ad8e802a",
   "metadata": {},
   "outputs": [
    {
     "name": "stdout",
     "output_type": "stream",
     "text": [
      "The accuracyscore is:  0.7111426543647977 \n",
      "\n",
      "Value counts of the model predictions:  \n",
      " No     961\n",
      "Yes    448\n",
      "dtype: int64\n"
     ]
    }
   ],
   "source": [
    "classification_models(X_train_smote_dt, y_train_smote_dt, X_test, y_test, DecisionTreeClassifier())"
   ]
  },
  {
   "cell_type": "code",
   "execution_count": 105,
   "id": "30abe95b",
   "metadata": {},
   "outputs": [
    {
     "name": "stdout",
     "output_type": "stream",
     "text": [
      "Classification report: \n",
      "\n",
      "              precision    recall  f1-score   support\n",
      "\n",
      "          No       0.84      0.76      0.80      1058\n",
      "         Yes       0.44      0.57      0.49       351\n",
      "\n",
      "    accuracy                           0.71      1409\n",
      "   macro avg       0.64      0.66      0.65      1409\n",
      "weighted avg       0.74      0.71      0.72      1409\n",
      "\n",
      "Confusion matrix:\n"
     ]
    },
    {
     "data": {
      "image/png": "[encoded data removed]",
      "text/plain": [
       "<Figure size 432x288 with 2 Axes>"
      ]
     },
     "metadata": {
      "needs_background": "light"
     },
     "output_type": "display_data"
    }
   ],
   "source": [
    "metrics_classifications(X_train_smote_dt, y_train_smote_dt, X_test, y_test, DecisionTreeClassifier())"
   ]
  },
  {
   "cell_type": "markdown",
   "id": "78823a38",
   "metadata": {},
   "source": [
    "**Comparison:** <br>\n",
    "    -<br>\n",
    "    -<br>\n",
    "    -<br>"
   ]
  },
  {
   "cell_type": "markdown",
   "id": "abbe49c7",
   "metadata": {},
   "source": [
    "### Downsampling with TomekLinks"
   ]
  },
  {
   "cell_type": "markdown",
   "id": "d3d65633",
   "metadata": {},
   "source": [
    "It is important to remember that it does not make the two classes equal but only removes the points from the majority class that are close to other points in minority class."
   ]
  },
  {
   "cell_type": "markdown",
   "id": "e9abd492",
   "metadata": {},
   "source": [
    "#### Do downsampling with TomeLinks"
   ]
  },
  {
   "cell_type": "code",
   "execution_count": 106,
   "id": "786ae832",
   "metadata": {},
   "outputs": [],
   "source": [
    "# Make copy of train data for downsampling\n",
    "X_train_tkl = X_train.copy()\n",
    "y_train_tkl = y_train.copy()"
   ]
  },
  {
   "cell_type": "code",
   "execution_count": 107,
   "id": "5406c1ee",
   "metadata": {},
   "outputs": [
    {
     "data": {
      "text/plain": [
       "No     3651\n",
       "Yes    1518\n",
       "Name: churn, dtype: int64"
      ]
     },
     "execution_count": 107,
     "metadata": {},
     "output_type": "execute_result"
    }
   ],
   "source": [
    "tkl = TomekLinks()\n",
    "\n",
    "X_train_tkl, y_train_tkl = tkl.fit_resample(X_train_tkl, y_train_tkl)\n",
    "y_train_tkl.value_counts()"
   ]
  },
  {
   "cell_type": "markdown",
   "id": "6d830892",
   "metadata": {},
   "source": [
    "#### Logistic Regression Model"
   ]
  },
  {
   "cell_type": "code",
   "execution_count": 108,
   "id": "64577dc2",
   "metadata": {},
   "outputs": [],
   "source": [
    "# copy train set resamled with smote for logistic regression model\n",
    "X_train_tkl_lr = X_train_tkl.copy()\n",
    "y_train_tkl_lr = y_train_tkl.copy()"
   ]
  },
  {
   "cell_type": "code",
   "execution_count": 109,
   "id": "693ea0a4",
   "metadata": {},
   "outputs": [
    {
     "name": "stdout",
     "output_type": "stream",
     "text": [
      "The accuracyscore is:  0.794180269694819 \n",
      "\n",
      "Value counts of the model predictions:  \n",
      " No     1076\n",
      "Yes     333\n",
      "dtype: int64\n"
     ]
    }
   ],
   "source": [
    "classification_models(X_train_tkl_lr, y_train_tkl_lr, X_test, y_test, LogisticRegression(random_state=12, max_iter=100))"
   ]
  },
  {
   "cell_type": "code",
   "execution_count": 110,
   "id": "5c5eee2b",
   "metadata": {},
   "outputs": [
    {
     "name": "stdout",
     "output_type": "stream",
     "text": [
      "Classification report: \n",
      "\n",
      "              precision    recall  f1-score   support\n",
      "\n",
      "          No       0.86      0.87      0.86      1058\n",
      "         Yes       0.59      0.56      0.58       351\n",
      "\n",
      "    accuracy                           0.79      1409\n",
      "   macro avg       0.72      0.72      0.72      1409\n",
      "weighted avg       0.79      0.79      0.79      1409\n",
      "\n",
      "Confusion matrix:\n"
     ]
    },
    {
     "data": {
      "image/png": "[encoded data removed]",
      "text/plain": [
       "<Figure size 432x288 with 2 Axes>"
      ]
     },
     "metadata": {
      "needs_background": "light"
     },
     "output_type": "display_data"
    }
   ],
   "source": [
    "metrics_classifications(X_train_tkl_lr, y_train_tkl_lr, X_test, y_test, LogisticRegression(random_state=12, max_iter=100))"
   ]
  },
  {
   "cell_type": "markdown",
   "id": "1eb42c74",
   "metadata": {},
   "source": [
    "#### Decision Tree Classifier"
   ]
  },
  {
   "cell_type": "code",
   "execution_count": 111,
   "id": "5530bfa5",
   "metadata": {},
   "outputs": [],
   "source": [
    "# copy train set resamled with smote for logistic regression model\n",
    "X_train_tkl_dt = X_train_tkl.copy()\n",
    "y_train_tkl_dt = y_train_tkl.copy()"
   ]
  },
  {
   "cell_type": "code",
   "execution_count": 112,
   "id": "89ca99a5",
   "metadata": {},
   "outputs": [
    {
     "name": "stdout",
     "output_type": "stream",
     "text": [
      "The accuracyscore is:  0.7182398864442867 \n",
      "\n",
      "Value counts of the model predictions:  \n",
      " No     969\n",
      "Yes    440\n",
      "dtype: int64\n"
     ]
    }
   ],
   "source": [
    "classification_models(X_train_tkl_dt, y_train_tkl_dt, X_test, y_test, DecisionTreeClassifier())"
   ]
  },
  {
   "cell_type": "code",
   "execution_count": 113,
   "id": "16f55a5d",
   "metadata": {},
   "outputs": [
    {
     "name": "stdout",
     "output_type": "stream",
     "text": [
      "Classification report: \n",
      "\n",
      "              precision    recall  f1-score   support\n",
      "\n",
      "          No       0.84      0.77      0.81      1058\n",
      "         Yes       0.45      0.57      0.50       351\n",
      "\n",
      "    accuracy                           0.72      1409\n",
      "   macro avg       0.65      0.67      0.66      1409\n",
      "weighted avg       0.75      0.72      0.73      1409\n",
      "\n",
      "Confusion matrix:\n"
     ]
    },
    {
     "data": {
      "image/png": "[encoded data removed]",
      "text/plain": [
       "<Figure size 432x288 with 2 Axes>"
      ]
     },
     "metadata": {
      "needs_background": "light"
     },
     "output_type": "display_data"
    }
   ],
   "source": [
    "metrics_classifications(X_train_tkl_dt, y_train_tkl_dt, X_test, y_test, DecisionTreeClassifier())"
   ]
  },
  {
   "cell_type": "markdown",
   "id": "38d5ffac",
   "metadata": {},
   "source": [
    "**Comparison:** <br>\n",
    "    - <br>\n",
    "    - <br>"
   ]
  },
  {
   "cell_type": "code",
   "execution_count": null,
   "id": "26820dfb",
   "metadata": {},
   "outputs": [],
   "source": []
  }
 ],
 "metadata": {
  "kernelspec": {
   "display_name": "Python 3",
   "language": "python",
   "name": "python3"
  },
  "language_info": {
   "codemirror_mode": {
    "name": "ipython",
    "version": 3
   },
   "file_extension": ".py",
   "mimetype": "text/x-python",
   "name": "python",
   "nbconvert_exporter": "python",
   "pygments_lexer": "ipython3",
   "version": "3.9.4"
  },
  "toc": {
   "base_numbering": 1,
   "nav_menu": {},
   "number_sections": true,
   "sideBar": true,
   "skip_h1_title": true,
   "title_cell": "Table of Contents",
   "title_sidebar": "Contents",
   "toc_cell": false,
   "toc_position": {},
   "toc_section_display": true,
   "toc_window_display": true
  }
 },
 "nbformat": 4,
 "nbformat_minor": 5
}
